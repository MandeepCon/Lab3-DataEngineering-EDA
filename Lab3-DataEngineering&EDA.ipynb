{
 "cells": [
  {
   "cell_type": "markdown",
   "id": "361ef51a",
   "metadata": {},
   "source": [
    "## **Lab3 - Data Engineering & EDA with Python, SQL, and Pandas**\n",
    "\n",
    "**Name:** Mandeep Singh Brar  \n",
    "**Student ID:** 8989367  \n",
    "**Course Name:** Machine Learning Programming  \n",
    "**Course Code:** PROG8245"
   ]
  },
  {
   "cell_type": "markdown",
   "id": "08962826",
   "metadata": {},
   "source": [
    "### **Part 1: Data Collection & Database Connection**\n",
    "\n",
    "#### **1. Create a Free SQL Database**\n",
    "\n",
    "**1.1 Step by Step for setting up Free SQL database:**  \n",
    "\n",
    "- Using a Neon.tech for setting up a free Postgre Database for the Lab3.    \n",
    "- Singup using the Github.  \n",
    "- Creating a project with the project name, database name and selecting region.     \n",
    "- Checking connection details on the dashboard, which are used to connect from Python. \n",
    "\n",
    "**1.2 Creating a Employee table**\n",
    "\n",
    "- The table employees contains five fields:\n",
    "   - **employee_id:** integer, primary key\n",
    "   - **name:** string\n",
    "   - **position:** string (IT job titles)\n",
    "   - **start_date:** date (between 2015 and 2024)\n",
    "   - **salary:** integer (between $60,000 and $200,000)\n",
    "\n",
    "         CREATE TABLE employees (    \n",
    "         employee_id INTEGER PRIMARY KEY,    \n",
    "         name VARCHAR(50),   \n",
    "         position VARCHAR(50),   \n",
    "         start_date DATE,    \n",
    "         salary INTEGER  \n",
    "         );"
   ]
  },
  {
   "cell_type": "markdown",
   "id": "46482312",
   "metadata": {},
   "source": [
    "### **2. Generate & Populate Data**\n",
    "\n",
    "- I am generating the 50 Synthetic employee records with the help of Faker library. \n",
    "\n",
    "- Each of the records having a Unique ID, realistic names, random IT job title, starting date between 2015 to 2024 and salary range between $60,000 and $200,000."
   ]
  },
  {
   "cell_type": "code",
   "execution_count": null,
   "id": "f6066fbb",
   "metadata": {},
   "outputs": [],
   "source": [
    "%pip install psycopg2-binary pandas"
   ]
  }
 ],
 "metadata": {
  "kernelspec": {
   "display_name": "Python 3",
   "language": "python",
   "name": "python3"
  },
  "language_info": {
   "codemirror_mode": {
    "name": "ipython",
    "version": 3
   },
   "file_extension": ".py",
   "mimetype": "text/x-python",
   "name": "python",
   "nbconvert_exporter": "python",
   "pygments_lexer": "ipython3",
   "version": "3.12.3"
  }
 },
 "nbformat": 4,
 "nbformat_minor": 5
}
