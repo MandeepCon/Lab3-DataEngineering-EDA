{
 "cells": [
  {
   "cell_type": "markdown",
   "id": "361ef51a",
   "metadata": {},
   "source": [
    "## **Lab3 - Data Engineering & EDA with Python, SQL, and Pandas**\n",
    "\n",
    "**Name:** Mandeep Singh Brar  \n",
    "**Student ID:** 8989367  \n",
    "**Course Name:** Machine Learning Programming  \n",
    "**Course Code:** PROG8245"
   ]
  },
  {
   "cell_type": "markdown",
   "id": "08962826",
   "metadata": {},
   "source": [
    "### **Part 1: Data Collection & Database Connection**\n",
    "\n",
    "#### **1. Create a Free SQL Database**\n",
    "\n",
    "**1.1 Step by Step for setting up Free SQL database:**  \n",
    "\n",
    "- Using a Neon.tech for setting up a free Postgre Database for the Lab3.    \n",
    "- Singup using the Github.  \n",
    "- Creating a project with the project name, database name and selecting region.     \n",
    "- Checking connection details on the dashboard, which are used to connect from Python. \n",
    "\n",
    "**1.2 Creating a Employee table**\n",
    "\n",
    "- The table employees contains five fields:\n",
    "   - **employee_id:** integer, primary key\n",
    "   - **name:** string\n",
    "   - **position:** string (IT job titles)\n",
    "   - **start_date:** date (between 2015 and 2024)\n",
    "   - **salary:** integer (between $60,000 and $200,000)\n",
    "\n",
    "         CREATE TABLE employees (    \n",
    "         employee_id INTEGER PRIMARY KEY,    \n",
    "         name VARCHAR(50),   \n",
    "         position VARCHAR(50),   \n",
    "         start_date DATE,    \n",
    "         salary INTEGER  \n",
    "         );"
   ]
  },
  {
   "cell_type": "markdown",
   "id": "46482312",
   "metadata": {},
   "source": [
    "### **2. Generate & Populate Data**\n",
    "\n",
    "- I am generating the 50 Synthetic employee records with the help of Faker library. \n",
    "\n",
    "- Each of the records having a Unique ID, realistic names, random IT job title, starting date between 2015 to 2024 and salary range between $60,000 and $200,000."
   ]
  },
  {
   "cell_type": "code",
   "execution_count": 12,
   "id": "778fca96",
   "metadata": {},
   "outputs": [
    {
     "name": "stdout",
     "output_type": "stream",
     "text": [
      "Collecting faker\n",
      "  Using cached faker-37.3.0-py3-none-any.whl.metadata (15 kB)\n",
      "Requirement already satisfied: tzdata in c:\\users\\singh\\appdata\\local\\programs\\python\\python312\\lib\\site-packages (from faker) (2025.2)\n",
      "Using cached faker-37.3.0-py3-none-any.whl (1.9 MB)\n",
      "Installing collected packages: faker\n",
      "Successfully installed faker-37.3.0\n"
     ]
    },
    {
     "name": "stderr",
     "output_type": "stream",
     "text": [
      "\n",
      "[notice] A new release of pip is available: 24.0 -> 25.1.1\n",
      "[notice] To update, run: python.exe -m pip install --upgrade pip\n"
     ]
    }
   ],
   "source": [
    "!pip install faker"
   ]
  },
  {
   "cell_type": "code",
   "execution_count": 20,
   "id": "0b3e71af",
   "metadata": {},
   "outputs": [
    {
     "name": "stdout",
     "output_type": "stream",
     "text": [
      "INSERT INTO employees (name, position, start_date, salary) VALUES ('Daniel White', 'SysAdmin', '2019-03-10', 88456);\n",
      "INSERT INTO employees (name, position, start_date, salary) VALUES ('Thomas Carson', 'Frontend Developer', '2021-03-07', 141612);\n",
      "INSERT INTO employees (name, position, start_date, salary) VALUES ('Kim Carroll', 'Data Scientist', '2015-06-05', 140869);\n",
      "INSERT INTO employees (name, position, start_date, salary) VALUES ('Tyler Baldwin', 'Frontend Developer', '2016-07-16', 114195);\n",
      "INSERT INTO employees (name, position, start_date, salary) VALUES ('Alicia Gregory', 'Frontend Developer', '2018-04-17', 189747);\n",
      "INSERT INTO employees (name, position, start_date, salary) VALUES ('Jennifer Massey', 'Frontend Developer', '2018-08-28', 152687);\n",
      "INSERT INTO employees (name, position, start_date, salary) VALUES ('Michael Reynolds', 'Data Analyst', '2018-10-15', 93892);\n",
      "INSERT INTO employees (name, position, start_date, salary) VALUES ('William Schroeder', 'Data Scientist', '2022-07-14', 132167);\n",
      "INSERT INTO employees (name, position, start_date, salary) VALUES ('Diana Wright', 'Data Analyst', '2017-10-17', 196081);\n",
      "INSERT INTO employees (name, position, start_date, salary) VALUES ('Michelle Allen', 'QA Engineer', '2015-04-27', 102615);\n",
      "INSERT INTO employees (name, position, start_date, salary) VALUES ('Amber Jacobson', 'Data Scientist', '2015-04-28', 190535);\n",
      "INSERT INTO employees (name, position, start_date, salary) VALUES ('Kimberly Williams', 'ML Engineer', '2018-03-12', 162216);\n",
      "INSERT INTO employees (name, position, start_date, salary) VALUES ('Amy Ferguson', 'Cloud Architect', '2020-04-10', 111799);\n",
      "INSERT INTO employees (name, position, start_date, salary) VALUES ('Stephanie Weber', 'ML Engineer', '2018-03-23', 150649);\n",
      "INSERT INTO employees (name, position, start_date, salary) VALUES ('Joseph Curry', 'Data Scientist', '2016-06-26', 191640);\n",
      "INSERT INTO employees (name, position, start_date, salary) VALUES ('Joshua Jones', 'Backend Developer', '2023-12-22', 183357);\n",
      "INSERT INTO employees (name, position, start_date, salary) VALUES ('Matthew Odonnell DDS', 'QA Engineer', '2023-11-24', 197507);\n",
      "INSERT INTO employees (name, position, start_date, salary) VALUES ('Jason Robertson', 'Backend Developer', '2022-02-04', 77293);\n",
      "INSERT INTO employees (name, position, start_date, salary) VALUES ('Virginia Davis', 'SysAdmin', '2020-08-19', 197042);\n",
      "INSERT INTO employees (name, position, start_date, salary) VALUES ('Kenneth Guzman', 'DevOps Engineer', '2019-11-13', 98700);\n",
      "INSERT INTO employees (name, position, start_date, salary) VALUES ('Laurie Johnson', 'Cloud Architect', '2020-04-01', 71833);\n",
      "INSERT INTO employees (name, position, start_date, salary) VALUES ('Eric Austin', 'SysAdmin', '2020-12-22', 70754);\n",
      "INSERT INTO employees (name, position, start_date, salary) VALUES ('Peter Spence', 'SysAdmin', '2016-06-09', 83945);\n",
      "INSERT INTO employees (name, position, start_date, salary) VALUES ('Keith Wilson', 'ML Engineer', '2022-01-05', 151608);\n",
      "INSERT INTO employees (name, position, start_date, salary) VALUES ('Jeffrey Nunez', 'Data Scientist', '2021-12-29', 131168);\n",
      "INSERT INTO employees (name, position, start_date, salary) VALUES ('Stephen Rodriguez', 'ML Engineer', '2023-05-01', 132203);\n",
      "INSERT INTO employees (name, position, start_date, salary) VALUES ('Sharon Woods', 'SysAdmin', '2017-05-30', 109258);\n",
      "INSERT INTO employees (name, position, start_date, salary) VALUES ('Wendy Phelps', 'Data Scientist', '2015-01-02', 136816);\n",
      "INSERT INTO employees (name, position, start_date, salary) VALUES ('Daniel Thompson', 'Data Analyst', '2019-05-02', 112585);\n",
      "INSERT INTO employees (name, position, start_date, salary) VALUES ('Jennifer Yates', 'Cloud Architect', '2016-11-16', 149486);\n",
      "INSERT INTO employees (name, position, start_date, salary) VALUES ('Margaret Oliver', 'Data Analyst', '2019-05-29', 155069);\n",
      "INSERT INTO employees (name, position, start_date, salary) VALUES ('Shane Clements', 'Software Engineer', '2023-03-10', 100472);\n",
      "INSERT INTO employees (name, position, start_date, salary) VALUES ('Tracy Acosta', 'Data Scientist', '2018-06-23', 173254);\n",
      "INSERT INTO employees (name, position, start_date, salary) VALUES ('Lisa Davis', 'ML Engineer', '2021-09-15', 112797);\n",
      "INSERT INTO employees (name, position, start_date, salary) VALUES ('Andrea Moore', 'Data Analyst', '2015-03-14', 82011);\n",
      "INSERT INTO employees (name, position, start_date, salary) VALUES ('John Barber', 'ML Engineer', '2016-06-02', 177450);\n",
      "INSERT INTO employees (name, position, start_date, salary) VALUES ('Mark Baxter', 'QA Engineer', '2018-07-13', 96396);\n",
      "INSERT INTO employees (name, position, start_date, salary) VALUES ('Alec Olson', 'Cloud Architect', '2022-08-08', 100674);\n",
      "INSERT INTO employees (name, position, start_date, salary) VALUES ('Justin Harris', 'ML Engineer', '2017-03-13', 93590);\n",
      "INSERT INTO employees (name, position, start_date, salary) VALUES ('Alexis Powers', 'Cloud Architect', '2017-11-12', 60121);\n",
      "INSERT INTO employees (name, position, start_date, salary) VALUES ('Wesley Norton', 'ML Engineer', '2018-02-26', 125422);\n",
      "INSERT INTO employees (name, position, start_date, salary) VALUES ('Jason Willis', 'ML Engineer', '2017-11-04', 107700);\n",
      "INSERT INTO employees (name, position, start_date, salary) VALUES ('Bridget Watts', 'Cloud Architect', '2015-02-21', 199764);\n",
      "INSERT INTO employees (name, position, start_date, salary) VALUES ('John Clark DDS', 'Data Scientist', '2018-09-19', 165600);\n",
      "INSERT INTO employees (name, position, start_date, salary) VALUES ('Angelica Davis', 'Frontend Developer', '2021-09-05', 76074);\n",
      "INSERT INTO employees (name, position, start_date, salary) VALUES ('Regina Howard', 'Software Engineer', '2016-01-21', 168273);\n",
      "INSERT INTO employees (name, position, start_date, salary) VALUES ('Laurie Massey', 'QA Engineer', '2023-05-22', 174812);\n",
      "INSERT INTO employees (name, position, start_date, salary) VALUES ('Renee Kennedy', 'Frontend Developer', '2019-12-07', 153278);\n",
      "INSERT INTO employees (name, position, start_date, salary) VALUES ('Emily Bailey', 'SysAdmin', '2018-02-11', 61071);\n",
      "INSERT INTO employees (name, position, start_date, salary) VALUES ('Deanna Moyer', 'Cloud Architect', '2015-07-07', 189727);\n"
     ]
    }
   ],
   "source": [
    "import random\n",
    "import datetime\n",
    "from faker import Faker\n",
    "\n",
    "# Initialize Faker for generating fake names for employees\n",
    "fakedata = Faker()\n",
    "\n",
    "# List of possible IT-related job positions\n",
    "positions = [\n",
    "    'Software Engineer', 'Data Analyst', 'DevOps Engineer', 'ML Engineer', 'QA Engineer',\n",
    "    'Backend Developer', 'Frontend Developer', 'Cloud Architect', 'SysAdmin', 'Data Scientist'\n",
    "]\n",
    "\n",
    "# Define start and end dates as datetime.date objects for the random date generator\n",
    "start_dt = datetime.date(2015, 1, 1)\n",
    "end_dt = datetime.date(2024, 6, 1)\n",
    "\n",
    "# Generate and print 50 SQL INSERT statements with fake employee data\n",
    "for i in range(50):\n",
    "    # Generate a random name and escape single quotes for SQL safety\n",
    "    name = fakedata.name().replace(\"'\", \"''\")\n",
    "    # Randomly select a job position\n",
    "    position = random.choice(positions)\n",
    "    # Generate a random start date within the specified range\n",
    "    start_date = fakedata.date_between(start_date=start_dt, end_date=end_dt)\n",
    "    # Generate a random salary between $60,000 and $200,000\n",
    "    salary = random.randint(60000, 200000)\n",
    "    # Print the SQL INSERT statement with generated values\n",
    "    print(\n",
    "        f\"INSERT INTO employees (name, position, start_date, salary) \"\n",
    "        f\"VALUES ('{name}', '{position}', '{start_date}', {salary});\"\n",
    "    )\n"
   ]
  },
  {
   "cell_type": "code",
   "execution_count": 10,
   "id": "f6066fbb",
   "metadata": {},
   "outputs": [
    {
     "name": "stdout",
     "output_type": "stream",
     "text": [
      "Requirement already satisfied: psycopg2-binary in c:\\users\\singh\\appdata\\local\\programs\\python\\python312\\lib\\site-packages (2.9.10)\n",
      "Requirement already satisfied: pandas in c:\\users\\singh\\appdata\\local\\programs\\python\\python312\\lib\\site-packages (2.2.3)\n",
      "Requirement already satisfied: numpy>=1.26.0 in c:\\users\\singh\\appdata\\local\\programs\\python\\python312\\lib\\site-packages (from pandas) (2.2.6)\n",
      "Requirement already satisfied: python-dateutil>=2.8.2 in c:\\users\\singh\\appdata\\roaming\\python\\python312\\site-packages (from pandas) (2.9.0.post0)\n",
      "Requirement already satisfied: pytz>=2020.1 in c:\\users\\singh\\appdata\\local\\programs\\python\\python312\\lib\\site-packages (from pandas) (2025.2)\n",
      "Requirement already satisfied: tzdata>=2022.7 in c:\\users\\singh\\appdata\\local\\programs\\python\\python312\\lib\\site-packages (from pandas) (2025.2)\n",
      "Requirement already satisfied: six>=1.5 in c:\\users\\singh\\appdata\\roaming\\python\\python312\\site-packages (from python-dateutil>=2.8.2->pandas) (1.17.0)\n",
      "Note: you may need to restart the kernel to use updated packages.\n"
     ]
    },
    {
     "name": "stderr",
     "output_type": "stream",
     "text": [
      "\n",
      "[notice] A new release of pip is available: 24.0 -> 25.1.1\n",
      "[notice] To update, run: python.exe -m pip install --upgrade pip\n"
     ]
    }
   ],
   "source": [
    "%pip install psycopg2-binary pandas"
   ]
  }
 ],
 "metadata": {
  "kernelspec": {
   "display_name": "Python 3",
   "language": "python",
   "name": "python3"
  },
  "language_info": {
   "codemirror_mode": {
    "name": "ipython",
    "version": 3
   },
   "file_extension": ".py",
   "mimetype": "text/x-python",
   "name": "python",
   "nbconvert_exporter": "python",
   "pygments_lexer": "ipython3",
   "version": "3.12.3"
  }
 },
 "nbformat": 4,
 "nbformat_minor": 5
}
