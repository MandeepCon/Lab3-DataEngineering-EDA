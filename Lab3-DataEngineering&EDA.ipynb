{
 "cells": [
  {
   "cell_type": "markdown",
   "id": "361ef51a",
   "metadata": {},
   "source": [
    "## **Lab3 - Data Engineering & EDA with Python, SQL, and Pandas**\n",
    "\n",
    "**Name:** Mandeep Singh Brar  \n",
    "**Student ID:** 8989367  \n",
    "**Course Name:** Machine Learning Programming  \n",
    "**Course Code:** PROG8245"
   ]
  },
  {
   "cell_type": "markdown",
   "id": "08962826",
   "metadata": {},
   "source": [
    "### **Part 1: Data Collection & Database Connection**\n",
    "\n",
    "#### **1. Create a Free SQL Database**\n",
    "\n",
    "**1.1 Step by Step for setting up Free SQL database:**  \n",
    "\n",
    "- Using a Neon.tech for setting up a free Postgre Database for the Lab3.    \n",
    "- Singup using the Github.  \n",
    "- Creating a project with the project name, database name and selecting region.     \n",
    "- Checking connection details on the dashboard, which are used to connect from Python. \n",
    "\n",
    "**1.2 Creating a Employee table**\n",
    "\n",
    "- The table employees contains five fields:\n",
    "   - **employee_id:** integer, primary key\n",
    "   - **name:** string\n",
    "   - **position:** string (IT job titles)\n",
    "   - **start_date:** date (between 2015 and 2024)\n",
    "   - **salary:** integer (between $60,000 and $200,000)\n",
    "\n",
    "         CREATE TABLE employees (    \n",
    "         employee_id INTEGER PRIMARY KEY,    \n",
    "         name VARCHAR(50),   \n",
    "         position VARCHAR(50),   \n",
    "         start_date DATE,    \n",
    "         salary INTEGER  \n",
    "         );"
   ]
  },
  {
   "cell_type": "markdown",
   "id": "46482312",
   "metadata": {},
   "source": [
    "### **2. Generate & Populate Data**"
   ]
  },
  {
   "cell_type": "code",
   "execution_count": 8,
   "id": "f6066fbb",
   "metadata": {},
   "outputs": [
    {
     "name": "stdout",
     "output_type": "stream",
     "text": [
      "Requirement already satisfied: psycopg2-binary in c:\\users\\singh\\appdata\\local\\programs\\python\\python312\\lib\\site-packages (2.9.10)\n",
      "Requirement already satisfied: pandas in c:\\users\\singh\\appdata\\local\\programs\\python\\python312\\lib\\site-packages (2.2.3)\n",
      "Requirement already satisfied: numpy>=1.26.0 in c:\\users\\singh\\appdata\\local\\programs\\python\\python312\\lib\\site-packages (from pandas) (2.2.6)\n",
      "Requirement already satisfied: python-dateutil>=2.8.2 in c:\\users\\singh\\appdata\\roaming\\python\\python312\\site-packages (from pandas) (2.9.0.post0)\n",
      "Requirement already satisfied: pytz>=2020.1 in c:\\users\\singh\\appdata\\local\\programs\\python\\python312\\lib\\site-packages (from pandas) (2025.2)\n",
      "Requirement already satisfied: tzdata>=2022.7 in c:\\users\\singh\\appdata\\local\\programs\\python\\python312\\lib\\site-packages (from pandas) (2025.2)\n",
      "Requirement already satisfied: six>=1.5 in c:\\users\\singh\\appdata\\roaming\\python\\python312\\site-packages (from python-dateutil>=2.8.2->pandas) (1.17.0)\n",
      "Note: you may need to restart the kernel to use updated packages.\n"
     ]
    },
    {
     "name": "stderr",
     "output_type": "stream",
     "text": [
      "\n",
      "[notice] A new release of pip is available: 24.0 -> 25.1.1\n",
      "[notice] To update, run: python.exe -m pip install --upgrade pip\n"
     ]
    }
   ],
   "source": [
    "%pip install psycopg2-binary pandas"
   ]
  }
 ],
 "metadata": {
  "kernelspec": {
   "display_name": "Python 3",
   "language": "python",
   "name": "python3"
  },
  "language_info": {
   "codemirror_mode": {
    "name": "ipython",
    "version": 3
   },
   "file_extension": ".py",
   "mimetype": "text/x-python",
   "name": "python",
   "nbconvert_exporter": "python",
   "pygments_lexer": "ipython3",
   "version": "3.12.3"
  }
 },
 "nbformat": 4,
 "nbformat_minor": 5
}
